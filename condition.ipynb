{
 "cells": [
  {
   "cell_type": "code",
   "execution_count": 3,
   "id": "51808939",
   "metadata": {},
   "outputs": [
    {
     "name": "stdout",
     "output_type": "stream",
     "text": [
      "fail\n"
     ]
    }
   ],
   "source": [
    "marks=int(input(\"enter a number\"))\n",
    "if marks>90:\n",
    "    print(\"A+\")\n",
    "if marks>=80:\n",
    "    print(\"A\")\n",
    "if marks>=60:\n",
    "    print(\"B\")\n",
    "if marks <60:\n",
    "    print(\"fail\")"
   ]
  },
  {
   "cell_type": "code",
   "execution_count": 4,
   "id": "7afb47f0",
   "metadata": {},
   "outputs": [
    {
     "name": "stdout",
     "output_type": "stream",
     "text": [
      "A\n",
      "B\n"
     ]
    }
   ],
   "source": [
    "marks=85\n",
    "if marks>90:\n",
    "    print(\"A+\")\n",
    "if marks>=80:\n",
    "    print(\"A\")\n",
    "if marks>=60:\n",
    "    print(\"B\")\n",
    "if marks <60:\n",
    "    print(\"fail\")"
   ]
  },
  {
   "cell_type": "code",
   "execution_count": 7,
   "id": "b7159f82",
   "metadata": {},
   "outputs": [
    {
     "name": "stdout",
     "output_type": "stream",
     "text": [
      "A\n"
     ]
    }
   ],
   "source": [
    "marks=85\n",
    "if marks>90:\n",
    "    print(\"A+\")\n",
    "elif marks>=80:\n",
    "    print(\"A\")\n",
    "elif marks>=60:\n",
    "    print(\"B\")\n",
    "elif marks <60:\n",
    "    print(\"fail\")\n",
    "else:\n",
    "    print(\"invalid marks\")"
   ]
  },
  {
   "cell_type": "markdown",
   "id": "f51733c3",
   "metadata": {},
   "source": [
    "- check wheather a number is positive or not\n",
    "- check wheather a number is even or odd\n",
    "- check wheather two line segments are equal or not\n",
    "- check wheather a character entered by user is a vowel or not\n",
    "- calculate  the area of circle\n",
    "- check wheather a triangle is an equilateral or isosceles triangle \n",
    "- calculate the gross salary of an employee where the basic salary 50000,HRA is 5% of bs snd TDS is 10% OF bs"
   ]
  },
  {
   "cell_type": "markdown",
   "id": "6cded285",
   "metadata": {},
   "source": [
    "## Question 1"
   ]
  },
  {
   "cell_type": "code",
   "execution_count": 2,
   "id": "75232f0f",
   "metadata": {},
   "outputs": [
    {
     "name": "stdout",
     "output_type": "stream",
     "text": [
      "it is a positive number\n"
     ]
    }
   ],
   "source": [
    "a=int(input(\"enter the number\"))\n",
    "if(a>=0):\n",
    "    print(\"it is a positive number\")\n",
    "else:\n",
    "    print(\"it is not a positive number\")"
   ]
  },
  {
   "cell_type": "markdown",
   "id": "15705a2c",
   "metadata": {},
   "source": [
    "## Question 2"
   ]
  },
  {
   "cell_type": "code",
   "execution_count": 4,
   "id": "b203352f",
   "metadata": {},
   "outputs": [
    {
     "name": "stdout",
     "output_type": "stream",
     "text": [
      "it is a even number\n"
     ]
    }
   ],
   "source": [
    "a=int(input(\"enter the number\"))\n",
    "if(a%2==0):\n",
    "    print(\"it is a even number\")\n",
    "else:\n",
    "    print(\"it is a odd number\")"
   ]
  },
  {
   "cell_type": "markdown",
   "id": "a43d20f9",
   "metadata": {},
   "source": [
    "## Question 3"
   ]
  },
  {
   "cell_type": "code",
   "execution_count": 6,
   "id": "afd1c801",
   "metadata": {},
   "outputs": [
    {
     "name": "stdout",
     "output_type": "stream",
     "text": [
      "it is equal \n"
     ]
    }
   ],
   "source": [
    "a=int(input(\"enter the first line segment length\"))\n",
    "b=int(input(\"enter the second line segment length\"))\n",
    "if(a==b):\n",
    "    print(\"it is equal \")\n",
    "else:\n",
    "    print(\"it is not equal\")"
   ]
  },
  {
   "cell_type": "markdown",
   "id": "83cfaf68",
   "metadata": {},
   "source": [
    "## Question 4"
   ]
  },
  {
   "cell_type": "code",
   "execution_count": 16,
   "id": "9f20feb4",
   "metadata": {},
   "outputs": [
    {
     "name": "stdout",
     "output_type": "stream",
     "text": [
      "it is not a vowel\n"
     ]
    }
   ],
   "source": [
    "b=input(\"enter the alphabet\")\n",
    "if b in ['a','e','i','o','u']:\n",
    "    print(\"it is a vowel\")\n",
    "else:\n",
    "    print(\"it is not a vowel\")"
   ]
  },
  {
   "cell_type": "markdown",
   "id": "8882d975",
   "metadata": {},
   "source": [
    "## Question 5"
   ]
  },
  {
   "cell_type": "code",
   "execution_count": 17,
   "id": "3004f37b",
   "metadata": {},
   "outputs": [
    {
     "name": "stdout",
     "output_type": "stream",
     "text": [
      "90.8\n"
     ]
    }
   ],
   "source": [
    "a=int(input(\"enter the radius length\"))\n",
    "b=22.7*(a**2)\n",
    "print(b)"
   ]
  },
  {
   "cell_type": "markdown",
   "id": "1f56c782",
   "metadata": {},
   "source": [
    "## Question 6"
   ]
  },
  {
   "cell_type": "code",
   "execution_count": null,
   "id": "f39ceda4",
   "metadata": {},
   "outputs": [
    {
     "name": "stdout",
     "output_type": "stream",
     "text": [
      "isosceles triangle\n"
     ]
    }
   ],
   "source": [
    "a=int(input(\"enter the first side length\"))\n",
    "b=int(input(\"enter the second side length\"))\n",
    "c=int(input(\"enter the third side length\"))\n",
    "if a is b and c:\n",
    "    print(\"equilateral\")\n",
    "elif a==b or b==c or c==a:\n",
    "    print(\"isosceles triangle\")\n",
    "elif a is not b and c or b is not a and c or c is not a and b:\n",
    "    print(\"no side matches\")\n",
    "else:\n",
    "    print(\"it is not belong to triangle\")\n"
   ]
  },
  {
   "cell_type": "markdown",
   "id": "f7202e09",
   "metadata": {},
   "source": [
    "## Question 7"
   ]
  },
  {
   "cell_type": "code",
   "execution_count": 23,
   "id": "0fa1541e",
   "metadata": {},
   "outputs": [
    {
     "name": "stdout",
     "output_type": "stream",
     "text": [
      "250.0\n"
     ]
    }
   ],
   "source": [
    "'''gross salary=basic salary+HRA+other allowence\n",
    "gross salary with TDS=gross salary *TDS/100'''\n",
    "a=50000#basic salary\n",
    "b=5/100#HRA\n",
    "grosssalary= a*b\n",
    "TDS=10/100\n",
    "grosssalaryTDS=grosssalary*TDS\n",
    "print(grosssalaryTDS)\n",
    "\n"
   ]
  },
  {
   "cell_type": "code",
   "execution_count": 2,
   "id": "5dc9d586",
   "metadata": {},
   "outputs": [
    {
     "name": "stdout",
     "output_type": "stream",
     "text": [
      "registration succesful\n"
     ]
    }
   ],
   "source": [
    "username = input(\"enter username: \")\n",
    "email=input(\"enter email\")\n",
    "password=input(\"enter password\")\n",
    "cpassword=input(\"enter confirm password\")\n",
    "if len(username)>=5 and len(username)<=15:\n",
    "    if len(email)>=10 and '@'in email:\n",
    "        if len(password)>=8 and password !=username:\n",
    "            if password==cpassword:\n",
    "                print(\"registration succesful\")\n",
    "            else:\n",
    "                print(\"password and confirm password not match\")\n",
    "        else:\n",
    "            print(\"invalid password\")\n",
    "    else:\n",
    "        print(\"invalid gmail\")\n",
    "else:\n",
    "    print(\"invalid username\")"
   ]
  }
 ],
 "metadata": {
  "kernelspec": {
   "display_name": "base",
   "language": "python",
   "name": "python3"
  },
  "language_info": {
   "codemirror_mode": {
    "name": "ipython",
    "version": 3
   },
   "file_extension": ".py",
   "mimetype": "text/x-python",
   "name": "python",
   "nbconvert_exporter": "python",
   "pygments_lexer": "ipython3",
   "version": "3.12.9"
  }
 },
 "nbformat": 4,
 "nbformat_minor": 5
}
