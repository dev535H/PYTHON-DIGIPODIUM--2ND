{
 "cells": [
  {
   "cell_type": "code",
   "execution_count": 3,
   "id": "51808939",
   "metadata": {},
   "outputs": [
    {
     "name": "stdout",
     "output_type": "stream",
     "text": [
      "fail\n"
     ]
    }
   ],
   "source": [
    "marks=int(input(\"enter a number\"))\n",
    "if marks>90:\n",
    "    print(\"A+\")\n",
    "if marks>=80:\n",
    "    print(\"A\")\n",
    "if marks>=60:\n",
    "    print(\"B\")\n",
    "if marks <60:\n",
    "    print(\"fail\")"
   ]
  },
  {
   "cell_type": "code",
   "execution_count": 4,
   "id": "7afb47f0",
   "metadata": {},
   "outputs": [
    {
     "name": "stdout",
     "output_type": "stream",
     "text": [
      "A\n",
      "B\n"
     ]
    }
   ],
   "source": [
    "marks=85\n",
    "if marks>90:\n",
    "    print(\"A+\")\n",
    "if marks>=80:\n",
    "    print(\"A\")\n",
    "if marks>=60:\n",
    "    print(\"B\")\n",
    "if marks <60:\n",
    "    print(\"fail\")"
   ]
  },
  {
   "cell_type": "code",
   "execution_count": 7,
   "id": "b7159f82",
   "metadata": {},
   "outputs": [
    {
     "name": "stdout",
     "output_type": "stream",
     "text": [
      "A\n"
     ]
    }
   ],
   "source": [
    "marks=85\n",
    "if marks>90:\n",
    "    print(\"A+\")\n",
    "elif marks>=80:\n",
    "    print(\"A\")\n",
    "elif marks>=60:\n",
    "    print(\"B\")\n",
    "elif marks <60:\n",
    "    print(\"fail\")\n",
    "else:\n",
    "    print(\"invalid marks\")"
   ]
  },
  {
   "cell_type": "markdown",
   "id": "f51733c3",
   "metadata": {},
   "source": [
    "- check wheather a number is positive or not\n",
    "- check wheather a number is even or odd\n",
    "- check wheather two line segments are equal or not\n",
    "- check wheather a character entered by user is a vowel or not\n",
    "- calculate  the area of circle\n",
    "- check wheather a triangle is an equilateral or isosceles triangle \n",
    "- calculate the gross salary of an employee where the basic salary 50000,HRA is 5% of bs snd TDS is 10% OF bs"
   ]
  }
 ],
 "metadata": {
  "kernelspec": {
   "display_name": "base",
   "language": "python",
   "name": "python3"
  },
  "language_info": {
   "codemirror_mode": {
    "name": "ipython",
    "version": 3
   },
   "file_extension": ".py",
   "mimetype": "text/x-python",
   "name": "python",
   "nbconvert_exporter": "python",
   "pygments_lexer": "ipython3",
   "version": "3.12.9"
  }
 },
 "nbformat": 4,
 "nbformat_minor": 5
}
