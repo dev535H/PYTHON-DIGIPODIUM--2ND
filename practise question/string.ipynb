{
 "cells": [
  {
   "cell_type": "markdown",
   "id": "f7f41987",
   "metadata": {},
   "source": [
    "\n",
    "1. Create a string\n",
    "2. Take a string input and print its length\n",
    "\n",
    "\n",
    "3. Print the last word of the string \"Python is great\" using slices\n",
    "\n",
    "\n",
    "4. Print each word on a new line from the string \"python is everywhere\"\n",
    "\n",
    "\n",
    "5. Print the string \"Hello World!\" in reverse\n",
    "\n",
    "\n",
    "6. Convert \"How are you?\" to uppercase\n",
    "\n",
    "\n",
    "7. Convert \"How Is It Going?\" to lowercase\n",
    "\n",
    "\n",
    "8. Join the list `['Python', 'is', 'easy', 'to', 'learn']` into a single string with spaces\n",
    "\n",
    "\n",
    "9. Print a multiline string using a single print statement\n",
    "\n",
    "\n",
    "10. Print the string:  \n",
    "# `to move to newline '\\n' is used.`  \n",
    "# *(Output should match exactly)*\n",
    "\n",
    "\n",
    "11. Print a variable with text using one print statement  \n",
    "# *(Example output: the variable is 15)*\n",
    "\n",
    "\n",
    "12. Concatenate the following strings and print the result  \n",
    "# `s1 = 'python '`, `s2 = 'is '`, `s3 = 'great.'`\n",
    "\n",
    "\n",
    "13. Print `#` 20 times without using a loop\n",
    "\n",
    "\n",
    "14. Print numbers from 1 to 9, each on a separate line followed by a dot  \n",
    "# *(Example output: 1.\\n2.\\n3.\\n...)*\n",
    "\n",
    "\n",
    "15. Ask user to input a sentence and print each word on a new line\n",
    "\n",
    "\n",
    "16. Ask user to input a string and check if it ends with '?'\n",
    "\n",
    "\n",
    "17. Ask user to input a string and print how many times 'e' appears\n",
    "\n",
    "\n",
    "18. Check if the user input is a number\n",
    "\n",
    "\n",
    "19. Remove extra spaces at the beginning and end of this string:  \n",
    "# `'   this is not a good string           '`\n",
    "\n",
    "\n",
    "20. Ask user to input a string, print \"found\" if any character is uppercase\n",
    "\n",
    "\n",
    "21. Extract names from this string and store in a list:  \n",
    "# `'Joe, David, Mark, Tom, Chris, Robert'`\n",
    "\n",
    "\n",
    "22. In the following string, add 'aye' at the end of every word and print the result:  \n",
    "# `'this is some text'`\n",
    "\n",
    "\n",
    "23. Ask user to enter a string and check if it contains 'fyi'\n",
    "\n",
    "\n",
    "24. Remove all special characters and numbers from the following string:  \n",
    "# `'%p34@y!*-*!t68h#&on404'`\n",
    "\n",
    "\n",
    "25. Calculate the average word length of the following paragraph:  \n",
    "# `\"this is a paragraph which is written just for the purpose of providing content to let the average word length be calculated\"`\n"
   ]
  },
  {
   "cell_type": "code",
   "execution_count": 6,
   "id": "ce02843c",
   "metadata": {},
   "outputs": [
    {
     "name": "stdout",
     "output_type": "stream",
     "text": [
      "dev\n"
     ]
    }
   ],
   "source": [
    "a=\"dev\"\n",
    "print(a)"
   ]
  },
  {
   "cell_type": "code",
   "execution_count": 7,
   "id": "d2a94e1f",
   "metadata": {},
   "outputs": [
    {
     "name": "stdout",
     "output_type": "stream",
     "text": [
      "3\n"
     ]
    }
   ],
   "source": [
    "b=len(a)\n",
    "print(b)"
   ]
  },
  {
   "cell_type": "code",
   "execution_count": 8,
   "id": "e52b56f4",
   "metadata": {},
   "outputs": [
    {
     "name": "stdout",
     "output_type": "stream",
     "text": [
      "t\n"
     ]
    }
   ],
   "source": [
    "a=\"Python is great\"\n",
    "print(a[-1])"
   ]
  },
  {
   "cell_type": "code",
   "execution_count": 9,
   "id": "28f83a55",
   "metadata": {},
   "outputs": [
    {
     "name": "stdout",
     "output_type": "stream",
     "text": [
      "python\n",
      "is\n",
      "everywhere\n"
     ]
    }
   ],
   "source": [
    "a=\"python is everywhere\"\n",
    "b = a.split()\n",
    "for i in b:\n",
    "    print(i)"
   ]
  },
  {
   "cell_type": "markdown",
   "id": "65f72931",
   "metadata": {},
   "source": [
    "# importent question"
   ]
  },
  {
   "cell_type": "code",
   "execution_count": 20,
   "id": "7b51f069",
   "metadata": {},
   "outputs": [
    {
     "name": "stdout",
     "output_type": "stream",
     "text": [
      "Python is easy to learn\n"
     ]
    }
   ],
   "source": [
    "a=['Python','is','easy','to','learn']\n",
    "print(f'{a[0]} {a[1]} {a[2]} {a[3]} {a[4]}')"
   ]
  },
  {
   "cell_type": "code",
   "execution_count": 21,
   "id": "42c7f7aa",
   "metadata": {},
   "outputs": [
    {
     "name": "stdout",
     "output_type": "stream",
     "text": [
      "jhony jhony yes papa\n",
      "eating sugar no papa\n",
      "telling a lie no papa\n",
      "open your mouth hahaha\n"
     ]
    }
   ],
   "source": [
    "a='''jhony jhony yes papa\n",
    "eating sugar no papa\n",
    "telling a lie no papa\n",
    "open your mouth hahaha'''\n",
    "print(a)"
   ]
  },
  {
   "cell_type": "code",
   "execution_count": 22,
   "id": "a5990cd2",
   "metadata": {},
   "outputs": [
    {
     "name": "stdout",
     "output_type": "stream",
     "text": [
      "the value of a is: 15\n"
     ]
    }
   ],
   "source": [
    "a=15\n",
    "print(f'the value of a is: {a}')"
   ]
  },
  {
   "cell_type": "code",
   "execution_count": 26,
   "id": "daeae092",
   "metadata": {},
   "outputs": [
    {
     "name": "stdout",
     "output_type": "stream",
     "text": [
      "python is great\n"
     ]
    }
   ],
   "source": [
    "s1=\"python\"\n",
    "s2=\"is\"\n",
    "s3=\"great\"\n",
    "print(s1+\" \"+s2+\" \"+ s3)"
   ]
  },
  {
   "cell_type": "code",
   "execution_count": 27,
   "id": "cd2f52ea",
   "metadata": {},
   "outputs": [
    {
     "name": "stdout",
     "output_type": "stream",
     "text": [
      "####################\n"
     ]
    }
   ],
   "source": [
    "print(\"#\"*20)"
   ]
  },
  {
   "cell_type": "code",
   "execution_count": 33,
   "id": "ab04119a",
   "metadata": {},
   "outputs": [
    {
     "name": "stdout",
     "output_type": "stream",
     "text": [
      "1.\n",
      "2.\n",
      "3.\n",
      "4.\n",
      "5.\n",
      "6.\n",
      "7.\n",
      "8.\n",
      "9.\n"
     ]
    }
   ],
   "source": [
    "a=[1,2,3,4,5,6,7,8,9]\n",
    "for i in a:\n",
    "    print(f'{i}.')"
   ]
  },
  {
   "cell_type": "code",
   "execution_count": null,
   "id": "ccd5b855",
   "metadata": {},
   "outputs": [],
   "source": []
  }
 ],
 "metadata": {
  "kernelspec": {
   "display_name": "base",
   "language": "python",
   "name": "python3"
  },
  "language_info": {
   "codemirror_mode": {
    "name": "ipython",
    "version": 3
   },
   "file_extension": ".py",
   "mimetype": "text/x-python",
   "name": "python",
   "nbconvert_exporter": "python",
   "pygments_lexer": "ipython3",
   "version": "3.12.9"
  }
 },
 "nbformat": 4,
 "nbformat_minor": 5
}
