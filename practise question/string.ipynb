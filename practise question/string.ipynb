{
 "cells": [
  {
   "cell_type": "markdown",
   "id": "f7f41987",
   "metadata": {},
   "source": [
    "# %% [markdown]\n",
    "# ## 1. Create a string and print it\n",
    "\n",
    "# %% [markdown]\n",
    "# ## 2. Take a string input and print its length\n",
    "\n",
    "# %% [markdown]\n",
    "# ## 3. Print the last word of the string \"Python is great\" using slices\n",
    "\n",
    "# %% [markdown]\n",
    "# ## 4. Print each word on a new line from the string \"python is everywhere\"\n",
    "\n",
    "# %% [markdown]\n",
    "# ## 5. Print the string \"Hello World!\" in reverse\n",
    "\n",
    "# %% [markdown]\n",
    "# ## 6. Convert \"How are you?\" to uppercase\n",
    "\n",
    "# %% [markdown]\n",
    "# ## 7. Convert \"How Is It Going?\" to lowercase\n",
    "\n",
    "# %% [markdown]\n",
    "# ## 8. Join the list `['Python', 'is', 'easy', 'to', 'learn']` into a single string with spaces\n",
    "\n",
    "# %% [markdown]\n",
    "# ## 9. Print a multiline string using a single print statement\n",
    "\n",
    "# %% [markdown]\n",
    "# ## 10. Print the string:  \n",
    "# `to move to newline '\\n' is used.`  \n",
    "# *(Output should match exactly)*\n",
    "\n",
    "# %% [markdown]\n",
    "# ## 11. Print a variable with text using one print statement  \n",
    "# *(Example output: the variable is 15)*\n",
    "\n",
    "# %% [markdown]\n",
    "# ## 12. Concatenate the following strings and print the result  \n",
    "# `s1 = 'python '`, `s2 = 'is '`, `s3 = 'great.'`\n",
    "\n",
    "# %% [markdown]\n",
    "# ## 13. Print `#` 20 times without using a loop\n",
    "\n",
    "# %% [markdown]\n",
    "# ## 14. Print numbers from 1 to 9, each on a separate line followed by a dot  \n",
    "# *(Example output: 1.\\n2.\\n3.\\n...)*\n",
    "\n",
    "# %% [markdown]\n",
    "# ## 15. Ask user to input a sentence and print each word on a new line\n",
    "\n",
    "# %% [markdown]\n",
    "# ## 16. Ask user to input a string and check if it ends with '?'\n",
    "\n",
    "# %% [markdown]\n",
    "# ## 17. Ask user to input a string and print how many times 'e' appears\n",
    "\n",
    "# %% [markdown]\n",
    "# ## 18. Check if the user input is a number\n",
    "\n",
    "# %% [markdown]\n",
    "# ## 19. Remove extra spaces at the beginning and end of this string:  \n",
    "# `'   this is not a good string           '`\n",
    "\n",
    "# %% [markdown]\n",
    "# ## 20. Ask user to input a string, print \"found\" if any character is uppercase\n",
    "\n",
    "# %% [markdown]\n",
    "# ## 21. Extract names from this string and store in a list:  \n",
    "# `'Joe, David, Mark, Tom, Chris, Robert'`\n",
    "\n",
    "# %% [markdown]\n",
    "# ## 22. In the following string, add 'aye' at the end of every word and print the result:  \n",
    "# `'this is some text'`\n",
    "\n",
    "# %% [markdown]\n",
    "# ## 23. Ask user to enter a string and check if it contains 'fyi'\n",
    "\n",
    "# %% [markdown]\n",
    "# ## 24. Remove all special characters and numbers from the following string:  \n",
    "# `'%p34@y!*-*!t68h#&on404'`\n",
    "\n",
    "# %% [markdown]\n",
    "# ## 25. Calculate the average word length of the following paragraph:  \n",
    "# `\"this is a paragraph which is written just for the purpose of providing content to let the average word length be calculated\"`\n"
   ]
  },
  {
   "cell_type": "code",
   "execution_count": 1,
   "id": "ce02843c",
   "metadata": {},
   "outputs": [
    {
     "name": "stdout",
     "output_type": "stream",
     "text": [
      "dev\n"
     ]
    }
   ],
   "source": [
    "a=\"dev\"\n",
    "print(a)"
   ]
  },
  {
   "cell_type": "code",
   "execution_count": 2,
   "id": "d2a94e1f",
   "metadata": {},
   "outputs": [
    {
     "name": "stdout",
     "output_type": "stream",
     "text": [
      "3\n"
     ]
    }
   ],
   "source": [
    "b=len(a)\n",
    "print(b)"
   ]
  },
  {
   "cell_type": "code",
   "execution_count": 3,
   "id": "e52b56f4",
   "metadata": {},
   "outputs": [
    {
     "name": "stdout",
     "output_type": "stream",
     "text": [
      "t\n"
     ]
    }
   ],
   "source": [
    "a=\"Python is great\"\n",
    "print(a[-1])"
   ]
  },
  {
   "cell_type": "code",
   "execution_count": null,
   "id": "28f83a55",
   "metadata": {},
   "outputs": [],
   "source": [
    "a=\"python is everywhere\""
   ]
  }
 ],
 "metadata": {
  "kernelspec": {
   "display_name": "base",
   "language": "python",
   "name": "python3"
  },
  "language_info": {
   "codemirror_mode": {
    "name": "ipython",
    "version": 3
   },
   "file_extension": ".py",
   "mimetype": "text/x-python",
   "name": "python",
   "nbconvert_exporter": "python",
   "pygments_lexer": "ipython3",
   "version": "3.12.9"
  }
 },
 "nbformat": 4,
 "nbformat_minor": 5
}
