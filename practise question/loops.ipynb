{
 "cells": [
  {
   "cell_type": "markdown",
   "id": "596e3693",
   "metadata": {},
   "source": [
    "# Python Programming Questions\n",
    "\n",
    "## Loops, Conditionals, Strings, and Arrays\n",
    "\n",
    "1. **Print numbers from 1 to 10 using a `for` loop.**\n",
    "\n",
    "2. **Write a program to print the multiplication table of a given number using a `while` loop.**\n",
    "\n",
    "3. **Write a program to find the sum of all even numbers between 1 and 100 using a `for` loop.**\n",
    "\n",
    "4. **Write a program to check if a given number is prime or not using a `while` loop.**\n",
    "\n",
    "5. **Write a program to calculate the factorial of a number using a `for` loop.**\n",
    "\n",
    "6. **Write a program to print the Fibonacci series up to a given limit using a `for` loop.**\n",
    "\n",
    "7. **Write a program to find the largest element in an array using a `for` loop.**\n",
    "\n",
    "8. **Write a program to reverse a given string using a `while` loop.**\n",
    "\n",
    "9. **Write a program to print the ASCII values of all uppercase letters using a `for` loop.**\n",
    "\n",
    "10. **Write a program to check if a given string is a palindrome using a `for` loop.**\n",
    "\n",
    "11. **Write a program to calculate the average of a list of numbers using a `for` loop.**\n",
    "\n",
    "12. **Write a program to find the smallest element in an array using a `while` loop.**\n",
    "\n",
    "13. **Write a program to calculate the sum of digits of a number using a `for` loop.**\n",
    "\n",
    "14. **Write a program to check if a given list of years has a leap year using a `while` loop.**\n",
    "\n",
    "15. **Write a program to print the multiplication table of numbers from 1 to 5 using a `for` loop.**\n",
    "\n",
    "16. **Write a program to find the factorial of a number using a `for` loop.**\n",
    "\n",
    "17. **Write a program to count the number of vowels in a given string using a `for` loop.**\n",
    "\n",
    "18. **Write a program to find the largest and smallest elements in an array using a `for` loop.**\n",
    "\n",
    "19. **Write a program to reverse the order of words in a sentence using a `while` loop.**\n"
   ]
  },
  {
   "cell_type": "code",
   "execution_count": 2,
   "id": "f6ebead6",
   "metadata": {},
   "outputs": [
    {
     "name": "stdout",
     "output_type": "stream",
     "text": [
      "1\n",
      "2\n",
      "3\n",
      "4\n",
      "5\n",
      "6\n",
      "7\n",
      "8\n",
      "9\n",
      "10\n"
     ]
    }
   ],
   "source": [
    "for i in range(1,11):\n",
    "    print(i)"
   ]
  },
  {
   "cell_type": "markdown",
   "id": "b9df439c",
   "metadata": {},
   "source": [
    "# dougth"
   ]
  },
  {
   "cell_type": "code",
   "execution_count": 4,
   "id": "6e711625",
   "metadata": {},
   "outputs": [],
   "source": [
    "a=int(input(\"enter the number\"))\n",
    "i=1   \n",
    "while(i>2):\n",
    "    b=i*a\n",
    "    i+=1\n",
    "    print(b)\n"
   ]
  },
  {
   "cell_type": "code",
   "execution_count": 17,
   "id": "e9106053",
   "metadata": {},
   "outputs": [
    {
     "name": "stdout",
     "output_type": "stream",
     "text": [
      "2 is even then the sum will 2\n",
      "4 is even then the sum will 6\n",
      "6 is even then the sum will 12\n",
      "8 is even then the sum will 20\n",
      "10 is even then the sum will 30\n",
      "12 is even then the sum will 42\n",
      "14 is even then the sum will 56\n",
      "16 is even then the sum will 72\n",
      "18 is even then the sum will 90\n",
      "20 is even then the sum will 110\n",
      "22 is even then the sum will 132\n",
      "24 is even then the sum will 156\n",
      "26 is even then the sum will 182\n",
      "28 is even then the sum will 210\n",
      "30 is even then the sum will 240\n",
      "32 is even then the sum will 272\n",
      "34 is even then the sum will 306\n",
      "36 is even then the sum will 342\n",
      "38 is even then the sum will 380\n",
      "40 is even then the sum will 420\n",
      "42 is even then the sum will 462\n",
      "44 is even then the sum will 506\n",
      "46 is even then the sum will 552\n",
      "48 is even then the sum will 600\n",
      "50 is even then the sum will 650\n",
      "52 is even then the sum will 702\n",
      "54 is even then the sum will 756\n",
      "56 is even then the sum will 812\n",
      "58 is even then the sum will 870\n",
      "60 is even then the sum will 930\n",
      "62 is even then the sum will 992\n",
      "64 is even then the sum will 1056\n",
      "66 is even then the sum will 1122\n",
      "68 is even then the sum will 1190\n",
      "70 is even then the sum will 1260\n",
      "72 is even then the sum will 1332\n",
      "74 is even then the sum will 1406\n",
      "76 is even then the sum will 1482\n",
      "78 is even then the sum will 1560\n",
      "80 is even then the sum will 1640\n",
      "82 is even then the sum will 1722\n",
      "84 is even then the sum will 1806\n",
      "86 is even then the sum will 1892\n",
      "88 is even then the sum will 1980\n",
      "90 is even then the sum will 2070\n",
      "92 is even then the sum will 2162\n",
      "94 is even then the sum will 2256\n",
      "96 is even then the sum will 2352\n",
      "98 is even then the sum will 2450\n",
      "100 is even then the sum will 2550\n",
      "102 is even then the sum will 2652\n",
      "104 is even then the sum will 2756\n",
      "106 is even then the sum will 2862\n",
      "108 is even then the sum will 2970\n",
      "110 is even then the sum will 3080\n",
      "3080\n"
     ]
    }
   ],
   "source": [
    "sum=0\n",
    "for i in range(1,111):\n",
    "    if(i%2==0):\n",
    "        sum=sum+i\n",
    "        print(f'{i} is even then the sum will {sum}')\n",
    "print(sum)"
   ]
  },
  {
   "cell_type": "markdown",
   "id": "bbcb15dd",
   "metadata": {},
   "source": [
    "# In prime question there are some dougth"
   ]
  },
  {
   "cell_type": "code",
   "execution_count": 25,
   "id": "858afda9",
   "metadata": {},
   "outputs": [
    {
     "name": "stdout",
     "output_type": "stream",
     "text": [
      "1\n",
      "2\n",
      "6\n",
      "24\n",
      "120\n"
     ]
    }
   ],
   "source": [
    "a=5\n",
    "fac=1\n",
    "for i in range(1,a+1):\n",
    "    fac=fac*i\n",
    "    print(fac)\n",
    "    "
   ]
  },
  {
   "cell_type": "code",
   "execution_count": 27,
   "id": "345f2c12",
   "metadata": {},
   "outputs": [
    {
     "name": "stdout",
     "output_type": "stream",
     "text": [
      "0\n",
      "1\n",
      "2\n",
      "3\n",
      "5\n",
      "8\n",
      "13\n",
      "21\n",
      "34\n",
      "55\n",
      "89\n"
     ]
    }
   ],
   "source": [
    "a=0\n",
    "b=1\n",
    "print(a)\n",
    "for i in range (10):\n",
    "    c=a+b\n",
    "    a=b\n",
    "    b=c\n",
    "    print(c)"
   ]
  },
  {
   "cell_type": "markdown",
   "id": "53293cbf",
   "metadata": {},
   "source": [
    "# dougth"
   ]
  },
  {
   "cell_type": "code",
   "execution_count": 8,
   "id": "e5a0836c",
   "metadata": {},
   "outputs": [
    {
     "name": "stdout",
     "output_type": "stream",
     "text": [
      "1 0\n",
      "10 1\n",
      "5 10\n",
      "500 10\n",
      "200 500\n"
     ]
    }
   ],
   "source": [
    "a=[1,10,5,500,200]\n",
    "b=0\n",
    "#a.sort()\n",
    "for i in a:\n",
    "    if(i<b):\n",
    "        print(f'{i} {b}')\n",
    "\n",
    "       \n",
    "    else:\n",
    "        print(f'{i} {b}')\n",
    "        #i=b\n",
    "        b=i\n",
    "     \n",
    "\n",
    "#print(i)"
   ]
  },
  {
   "cell_type": "code",
   "execution_count": 33,
   "id": "94c48dbb",
   "metadata": {},
   "outputs": [
    {
     "name": "stdout",
     "output_type": "stream",
     "text": [
      "14\n",
      "v e d   s i   e m a n   y m "
     ]
    }
   ],
   "source": [
    "a='my name is dev'\n",
    "b=len(a)\n",
    "print(b)\n",
    "while(b>0):\n",
    "    print(a[b-1],end=\" \")\n",
    "    b-=1"
   ]
  },
  {
   "cell_type": "markdown",
   "id": "72dedd9e",
   "metadata": {},
   "source": [
    "# queston 9: what is ascii"
   ]
  },
  {
   "cell_type": "code",
   "execution_count": 21,
   "id": "b4dfc408",
   "metadata": {},
   "outputs": [
    {
     "name": "stdout",
     "output_type": "stream",
     "text": [
      "it not a palindrome string\n"
     ]
    }
   ],
   "source": [
    "a=\"12\"\n",
    "copy=a\n",
    "b=len(a)\n",
    "c=\"\"\n",
    "for i in range(0,b):\n",
    "    c=c+(a[b-1])\n",
    "    b-=1\n",
    "    \n",
    "if(c==copy):\n",
    "    print(\"it is palindrome string\")\n",
    "else:\n",
    "    print(\"it not a palindrome string\")"
   ]
  },
  {
   "cell_type": "code",
   "execution_count": 24,
   "id": "5aecc70e",
   "metadata": {},
   "outputs": [
    {
     "name": "stdout",
     "output_type": "stream",
     "text": [
      "5.0\n"
     ]
    }
   ],
   "source": [
    "a=[1,2,3,4,5,6,7,8,9]\n",
    "sum=0\n",
    "for i in a:\n",
    "    sum=sum+i\n",
    "avg=sum/len(a)\n",
    "print(avg)"
   ]
  },
  {
   "cell_type": "markdown",
   "id": "2b1734d1",
   "metadata": {},
   "source": [
    "question 12 i dont know and question 13 is very easy"
   ]
  },
  {
   "cell_type": "code",
   "execution_count": 27,
   "id": "d90e16d9",
   "metadata": {},
   "outputs": [
    {
     "name": "stdout",
     "output_type": "stream",
     "text": [
      "it is not a leap year\n"
     ]
    }
   ],
   "source": [
    "a=int(input(\"enter the year\"))\n",
    "if(a%4==0):\n",
    "    print('it is a leap year')\n",
    "else:\n",
    "    print(\"it is not a leap year\")"
   ]
  },
  {
   "cell_type": "markdown",
   "id": "d357acad",
   "metadata": {},
   "source": [
    "dougth in 15 question"
   ]
  },
  {
   "cell_type": "code",
   "execution_count": 30,
   "id": "8a142314",
   "metadata": {},
   "outputs": [
    {
     "name": "stdout",
     "output_type": "stream",
     "text": [
      "(0, 1, 2, 3, 4, 5, 6, 7, 8, 9, 10, 0, 1, 2, 3, 4, 5, 6, 7, 8, 9, 10)\n"
     ]
    }
   ],
   "source": [
    "a=(0,1,2,3,4,5,6,7,8,9,10)\n",
    "print(2*a)"
   ]
  },
  {
   "cell_type": "code",
   "execution_count": 37,
   "id": "f4856d54",
   "metadata": {},
   "outputs": [
    {
     "name": "stdout",
     "output_type": "stream",
     "text": [
      "120\n"
     ]
    }
   ],
   "source": [
    "a=int(input(\"enter a number\"))\n",
    "b=1\n",
    "for i in range(1,a+1):\n",
    "    b=b*i\n",
    "print(b)"
   ]
  },
  {
   "cell_type": "markdown",
   "id": "72f48370",
   "metadata": {},
   "source": [
    "not solved completely"
   ]
  },
  {
   "cell_type": "code",
   "execution_count": 48,
   "id": "40f2c187",
   "metadata": {},
   "outputs": [],
   "source": [
    "a=\"i am dev\"\n",
    "b=['a','e','i','o','u']\n",
    "sum=0\n",
    "for i in a:\n",
    "    if i==b:\n",
    "        print(i)"
   ]
  },
  {
   "cell_type": "code",
   "execution_count": null,
   "id": "6d0b2027",
   "metadata": {},
   "outputs": [
    {
     "name": "stdout",
     "output_type": "stream",
     "text": [
      "3\n",
      "['dev', 'is', 'name', 'my']\n"
     ]
    }
   ],
   "source": [
    "a=\"my name is dev\"\n",
    "d= a.split()\n",
    "b=[]\n",
    "c=len(d)-1\n",
    "while(c>=0):\n",
    "    b.append(d[c])\n",
    "    c-=1\n",
    "print(b)\n",
    "    "
   ]
  }
 ],
 "metadata": {
  "kernelspec": {
   "display_name": "base",
   "language": "python",
   "name": "python3"
  },
  "language_info": {
   "codemirror_mode": {
    "name": "ipython",
    "version": 3
   },
   "file_extension": ".py",
   "mimetype": "text/x-python",
   "name": "python",
   "nbconvert_exporter": "python",
   "pygments_lexer": "ipython3",
   "version": "3.12.9"
  }
 },
 "nbformat": 4,
 "nbformat_minor": 5
}
