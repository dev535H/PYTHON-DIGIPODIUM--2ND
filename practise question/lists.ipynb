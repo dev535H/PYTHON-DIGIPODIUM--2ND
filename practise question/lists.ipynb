{
 "cells": [
  {
   "cell_type": "markdown",
   "id": "fdaf7a76",
   "metadata": {},
   "source": [
    "# Python List Exercises\n",
    "\n",
    "1. Write a program that creates an empty list and then asks the user to input integers to add to the list. Print the final list.\n",
    "\n",
    "2. Write a program that creates a list of integers and then asks the user to input an integer to check if it exists in the list. Print a message indicating whether the integer is in the list or not.\n",
    "\n",
    "3. Write a program that creates a list of strings and then sorts the list alphabetically. Print the sorted list.\n",
    "\n",
    "4. Write a program that creates a list of integers and then finds the maximum value in the list. Print the maximum value.\n",
    "\n",
    "5. Write a program that creates two lists of integers and then finds the common elements between those two lists. Print the common elements.\n",
    "\n",
    "6. Write a program that creates a list of strings and then removes all elements that contain a specific substring. Print the final list.\n",
    "\n",
    "7. Write a program that creates a nested list and then accesses a specific element in the list. Print the accessed element.\n",
    "\n",
    "8. Write a program that creates a list of integers and then removes all duplicates from the list. Print the final list.\n",
    "\n",
    "9. Write a program that creates a list of strings and then finds the longest string in the list. Print the longest string.\n",
    "\n",
    "10. Write a program that creates a list of integers and then finds the sum of all the even numbers in the list. Print the sum.\n",
    "\n",
    "11. Write a program that creates a list of integers and then asks the user to input a position to remove an element from the list. Print the final list.\n",
    "\n",
    "12. Write a program that creates a list of strings and then concatenates all the strings into a single string. Print the final string.\n",
    "\n",
    "13. Write a program that creates a list of integers and then finds the median value of the list. Print the median.\n",
    "\n",
    "14. Write a program that creates a list of strings and then reverses the order of the strings in the list. Print the reversed list.\n",
    "\n",
    "15. Write a program that creates a list of integers and then calculates the average of all the numbers in the list. Print the average.\n",
    "\n",
    "16. Write a program that creates a list of integers and then finds the index of a specific element in the list. Print the index.\n",
    "\n",
    "17. Write a program that creates a list of strings and then removes all whitespace characters from each string in the list. Print the final list.\n",
    "\n",
    "18. Write a program that creates a list of integers and then sorts the list in descending order. Print the sorted list.\n",
    "\n",
    "19. Write a program that creates a list of integers and then asks the user to input a value to add to the list. Add the value to the beginning of the list and print the final list.\n",
    "\n",
    "20. Write a program that creates two lists of integers and then concatenates those two lists into a single list. Print the final list.\n",
    "\n",
    "21. Write a program that uses the map function to create a new list that contains the squares of each element in a user inputted list of integers.\n",
    "\n",
    "22. Write a program that uses a lambda expression and the map function to convert a list of integers to a list of strings. Print the new list.\n",
    "\n",
    "23. Write a program that uses a lambda expression and the map function to add 10 to each element in a list of integers. Print the new list.\n",
    "\n",
    "24. Write a program that uses the map function to create a new list that contains the first letter of each string in a user inputted list of strings.\n",
    "\n",
    "25. Write a program that uses a lambda expression and the map function to convert a list of Celsius temperatures to a list of Fahrenheit temperatures. Print the new list.\n",
    "\n",
    "26. Write a program that uses a lambda expression and the map function to convert a list of strings to a list of integers. Print the new list.\n",
    "\n",
    "27. Write a program that uses the map function to create a new list that contains the length of each string in a user inputted list of strings.\n",
    "\n",
    "28. Write a program that uses a lambda expression and the map function to calculate the square root of each element in a list of integers. Print the new list.\n",
    "\n",
    "29. Write a program that uses a lambda expression and the map function to convert a list of integers to their absolute values. Print the new list.\n",
    "\n",
    "30. Write a program that uses the map function to create a new list that contains the uppercase version of each string in a user inputted list of strings.\n",
    "\n",
    "31. Write a program that uses the filter function to create a new list that contains only the even numbers from a user inputted list of integers.\n",
    "\n",
    "32. Write a program that uses a lambda expression and the filter function to create a new list that contains only the strings that start with a vowel from a user inputted list of strings.\n",
    "\n",
    "33. Write a program that uses the filter function to create a new list that contains only the strings with a length greater than 5 from a user inputted list of strings.\n",
    "\n",
    "34. Write a program that uses a lambda expression and the filter function to create a new list that contains only the positive numbers from a user inputted list of integers.\n",
    "\n",
    "35. Write a program that uses the filter function to create a new list that contains only the strings that contain the letter \"e\" from a user inputted list of strings.\n",
    "\n",
    "36. Write a program that creates a nested list from two user inputted lists of integers. The resulting nested list should contain each element of the first list paired with the corresponding element of the second list.  \n",
    "_Example input: [1, 2, 3], [4, 5, 6]_  \n",
    "_Example output: [[1, 4], [2, 5], [3, 6]]_\n",
    "\n",
    "37. Write a program that creates a nested list of strings from a user inputted list of strings. The resulting nested list should contain each string split into its individual characters.  \n",
    "_Example input: ['hello', 'world']_  \n",
    "_Example output: [['h', 'e', 'l', 'l', 'o'], ['w', 'o', 'r', 'l', 'd']]_\n",
    "\n",
    "38. Write a program that creates a nested list of integers from a user inputted list of integers. The resulting nested list should contain each integer along with its square.  \n",
    "_Example input: [1, 2, 3, 4, 5]_  \n",
    "_Example output: [[1, 1], [2, 4], [3, 9], [4, 16], [5, 25]]_\n",
    "\n",
    "39. Write a program that creates a nested list from a user inputted list of strings. The resulting nested list should contain the unique characters from each string.  \n",
    "_Example input: ['apple', 'banana', 'cherry']_  \n",
    "_Example output: [['a', 'p', 'l', 'e'], ['b', 'a', 'n'], ['c', 'h', 'e', 'r', 'y']]_\n",
    "\n",
    "40. Write a program that creates a nested list of integers from a user inputted list of integers. The resulting nested list should contain each integer along with all of its divisors.  \n",
    "_Example input: [2, 3, 4, 5]_  \n",
    "_Example output: [[2, [1, 2]], [3, [1, 3]], [4, [1, 2, 4]], [5, [1, 5]]]\n",
    "\n",
    "41. You are given a list of integers, `nums`. Write a function, `reverse_list(nums)`, that takes the list as input and returns a new list that is the reverse of the original list.  \n",
    "_Function signature:_  \n",
    "`def reverse_list(nums: List[int]) -> List[int]`  \n",
    "**Constraints:**  \n",
    "- Do not use any built-in functions or methods that reverse a list directly.  \n",
    "- Use standard Python list manipulation.  \n",
    "- Time complexity: O(n)  \n",
    "- Space complexity: O(n)  \n",
    "_Example input:_ `[1, 2, 3, 4, 5]`  \n",
    "_Example output:_ `[5, 4, 3, 2, 1]`\n"
   ]
  },
  {
   "cell_type": "code",
   "execution_count": null,
   "id": "9c7ebbe1",
   "metadata": {},
   "outputs": [],
   "source": [
    "a=[]\n",
    "for i in range(0,5):\n",
    "    b=int(input(\"enter a number\"))\n",
    "    a.append(b)\n",
    "print(a)"
   ]
  },
  {
   "cell_type": "markdown",
   "id": "99653f8a",
   "metadata": {},
   "source": [
    "ques 2 not done"
   ]
  },
  {
   "cell_type": "code",
   "execution_count": null,
   "id": "60262fa3",
   "metadata": {},
   "outputs": [
    {
     "name": "stdout",
     "output_type": "stream",
     "text": [
      "['d', 'e', 'r', 's', 't', 'v', 'w']\n"
     ]
    }
   ],
   "source": [
    "a=input('enter the string')\n",
    "b=a.split()\n",
    "b.sort()\n",
    "print(b)"
   ]
  },
  {
   "cell_type": "code",
   "execution_count": null,
   "id": "cda0fa50",
   "metadata": {},
   "outputs": [
    {
     "name": "stdout",
     "output_type": "stream",
     "text": [
      "1000\n"
     ]
    }
   ],
   "source": [
    "a=[2,1000,5,10,200,3,5]\n",
    "a.sort()\n",
    "print(a[-1])"
   ]
  },
  {
   "cell_type": "markdown",
   "id": "c399819e",
   "metadata": {},
   "source": [
    "dougth regarding index : if i want to know  which index element is common in list b then the index no. is not correct while print"
   ]
  },
  {
   "cell_type": "code",
   "execution_count": null,
   "id": "862b80ae",
   "metadata": {},
   "outputs": [
    {
     "name": "stdout",
     "output_type": "stream",
     "text": [
      "[1, 2, 3, 4]\n",
      "[2, 3, 4, 5]\n",
      "1 2 and 1 4\n",
      "1 3 and 1 5\n"
     ]
    },
    {
     "ename": "IndexError",
     "evalue": "list index out of range",
     "output_type": "error",
     "traceback": [
      "\u001b[1;31m---------------------------------------------------------------------------\u001b[0m",
      "\u001b[1;31mIndexError\u001b[0m                                Traceback (most recent call last)",
      "Cell \u001b[1;32mIn[14], line 11\u001b[0m\n\u001b[0;32m      9\u001b[0m \u001b[38;5;28;01mfor\u001b[39;00m i \u001b[38;5;129;01min\u001b[39;00m a:\n\u001b[0;32m     10\u001b[0m     \u001b[38;5;28;01mfor\u001b[39;00m j \u001b[38;5;129;01min\u001b[39;00m b:\n\u001b[1;32m---> 11\u001b[0m        \u001b[38;5;28mprint\u001b[39m(\u001b[38;5;124mf\u001b[39m\u001b[38;5;124m\"\u001b[39m\u001b[38;5;132;01m{\u001b[39;00mi\u001b[38;5;132;01m}\u001b[39;00m\u001b[38;5;124m \u001b[39m\u001b[38;5;132;01m{\u001b[39;00mj\u001b[38;5;132;01m}\u001b[39;00m\u001b[38;5;124m and \u001b[39m\u001b[38;5;132;01m{\u001b[39;00ma[i\u001b[38;5;241m-\u001b[39m\u001b[38;5;241m1\u001b[39m]\u001b[38;5;132;01m}\u001b[39;00m\u001b[38;5;124m \u001b[39m\u001b[38;5;132;01m{\u001b[39;00m\u001b[43mb\u001b[49m\u001b[43m[\u001b[49m\u001b[43mj\u001b[49m\u001b[43m]\u001b[49m\u001b[38;5;132;01m}\u001b[39;00m\u001b[38;5;124m\"\u001b[39m)\n\u001b[0;32m     12\u001b[0m \u001b[38;5;250m       \u001b[39m\u001b[38;5;124;03m''' if i==j:\u001b[39;00m\n\u001b[0;32m     13\u001b[0m \u001b[38;5;124;03m            print(f\"found {i} at at index of second list b {b[j]}\")'''\u001b[39;00m\n",
      "\u001b[1;31mIndexError\u001b[0m: list index out of range"
     ]
    }
   ],
   "source": [
    "a=input(\"enter the list 1\")\n",
    "a=a.split()\n",
    "a=[int(i) for i in a]\n",
    "b=input(\"enter the list 2\")\n",
    "b=b.split()\n",
    "b=[int(i) for i in b]\n",
    "print(a)\n",
    "print(b)\n",
    "for i in a:\n",
    "    for j in b:\n",
    "       print(f\"{i} {j} and {a[i-1]} {b[j]}\")\n",
    "       ''' if i==j:\n",
    "            print(f\"found {i} at at index of second list b {b[j]}\")'''"
   ]
  },
  {
   "cell_type": "code",
   "execution_count": null,
   "id": "9508e721",
   "metadata": {},
   "outputs": [
    {
     "name": "stdout",
     "output_type": "stream",
     "text": [
      "['my', 'name', 'is']\n"
     ]
    }
   ],
   "source": [
    "a=(\"my name is dev\")\n",
    "a=a.split()\n",
    "b=(\"dev\")\n",
    "b=b.split()\n",
    "'''print(d,c)'''\n",
    "'''a.remove(b)'''\n",
    "for i in b:\n",
    "    for j in a:\n",
    "        if(i==j):\n",
    "            a.remove(j)\n",
    "print(a)\n"
   ]
  },
  {
   "cell_type": "markdown",
   "id": "739aea15",
   "metadata": {},
   "source": [
    "question 7 logic not clear"
   ]
  },
  {
   "cell_type": "code",
   "execution_count": null,
   "id": "d80b88aa",
   "metadata": {},
   "outputs": [
    {
     "name": "stdout",
     "output_type": "stream",
     "text": [
      "[1, 2, 1]\n",
      "[1, 2, 1]\n",
      "[1, 2, 1]\n",
      "[1, 2, 1]\n",
      "[1, 2, 1]\n",
      "[1, 2, 1]\n",
      "[1, 2, 1]\n",
      "[1, 2, 1]\n",
      "[1, 2, 1]\n",
      "[1, 2, 1]\n",
      "[1, 2, 1]\n",
      "[1, 2, 1]\n",
      "[1, 2, 1] [1, 2, 1]\n"
     ]
    }
   ],
   "source": [
    "a=input(\"enter the lists\")\n",
    "b=input(\"enter the second list\")\n",
    "a=a.split()\n",
    "b=b.split()\n",
    "a=[int(i) for i in a]\n",
    "b=[int(j) for j in b]\n",
    "for i in a:\n",
    "    print(a)\n",
    "    for j in b:\n",
    "        print(b)\n",
    "\n",
    "print(a,b)"
   ]
  },
  {
   "cell_type": "markdown",
   "id": "ba3bc2ea",
   "metadata": {},
   "source": [
    "remove to horaha hai per phele wala hu raha hai baad wala kaise remove kere"
   ]
  },
  {
   "cell_type": "code",
   "execution_count": null,
   "id": "b83e1fdf",
   "metadata": {},
   "outputs": [
    {
     "name": "stdout",
     "output_type": "stream",
     "text": [
      "[2, 1]\n"
     ]
    }
   ],
   "source": [
    "a=input(\"enter the number\")\n",
    "a=a.split()\n",
    "a=[int(i) for i in a]\n",
    "sum=0\n",
    "for i in a:\n",
    "    for j in a:\n",
    "       if i==j:\n",
    "           sum=sum+1\n",
    "           if sum==2:\n",
    "               a.remove(i)\n",
    "print(a)           \n",
    "            \n"
   ]
  },
  {
   "cell_type": "code",
   "execution_count": 8,
   "id": "cc1c52b6",
   "metadata": {},
   "outputs": [
    {
     "name": "stdout",
     "output_type": "stream",
     "text": [
      "4 name\n"
     ]
    }
   ],
   "source": [
    "a=\"my name is deve\"\n",
    "c=a.split()\n",
    "b=[]\n",
    "d=[]\n",
    "for i in c:\n",
    "    length=len(i)\n",
    "    b.append(length)\n",
    "    d.append(i)\n",
    "b.sort()\n",
    "d.sort()\n",
    "print(b[-1],d[-1])\n"
   ]
  },
  {
   "cell_type": "code",
   "execution_count": 13,
   "id": "9947f5eb",
   "metadata": {},
   "outputs": [
    {
     "name": "stdout",
     "output_type": "stream",
     "text": [
      "[1, 2, 3, 4] and sum of all even integers is 6\n"
     ]
    }
   ],
   "source": [
    "a=input(\"enter the integers\")\n",
    "a=a.split()\n",
    "a=[int(i) for i in a]\n",
    "sum=0\n",
    "for v in a:\n",
    "    if v%2==0:\n",
    "        sum=sum+v\n",
    "print(f\"{a} and sum of all even integers is {sum}\")"
   ]
  },
  {
   "cell_type": "code",
   "execution_count": 17,
   "id": "181bf4f5",
   "metadata": {},
   "outputs": [
    {
     "name": "stdout",
     "output_type": "stream",
     "text": [
      "[1, 2, 3, 4]\n",
      "final list after remove[2, 3, 4]\n"
     ]
    }
   ],
   "source": [
    "a=input(\"enter the number\")\n",
    "a=a.split()\n",
    "a=[int(i) for i in a]\n",
    "print(a)\n",
    "b=int(input(\"enter the position\"))\n",
    "a.remove(b)\n",
    "print(f'final list after remove{a}')"
   ]
  },
  {
   "cell_type": "code",
   "execution_count": 20,
   "id": "1f4c9519",
   "metadata": {},
   "outputs": [
    {
     "name": "stdout",
     "output_type": "stream",
     "text": [
      "2.5\n"
     ]
    }
   ],
   "source": [
    "a=input(\"enter the number\")\n",
    "a=a.split()\n",
    "a=[int(i) for i in a]\n",
    "b=0\n",
    "d=0\n",
    "for v in a:\n",
    "    b=b+v\n",
    "    d+=1\n",
    "median=b/d\n",
    "print(median)"
   ]
  },
  {
   "cell_type": "code",
   "execution_count": 31,
   "id": "c5356d3e",
   "metadata": {},
   "outputs": [
    {
     "name": "stdout",
     "output_type": "stream",
     "text": [
      "['dev', 'is', 'name', 'my']\n"
     ]
    }
   ],
   "source": [
    "a=\"my name is dev\"\n",
    "a=a.split()\n",
    "c=len(a)-1\n",
    "b=[]\n",
    "for j in a:\n",
    "    b.append(a[c])\n",
    "    #print(j,b)\n",
    "    c-=1\n",
    "print(b)"
   ]
  },
  {
   "cell_type": "markdown",
   "id": "b1fc0a33",
   "metadata": {},
   "source": [
    "question 15 and 13 are same"
   ]
  },
  {
   "cell_type": "markdown",
   "id": "bf69d9d9",
   "metadata": {},
   "source": [
    "can we do it direct"
   ]
  },
  {
   "cell_type": "code",
   "execution_count": 55,
   "id": "676cef4b",
   "metadata": {},
   "outputs": [
    {
     "name": "stdout",
     "output_type": "stream",
     "text": [
      "3\n"
     ]
    }
   ],
   "source": [
    "a=\"my name is dev\"\n",
    "b=a.split()\n",
    "f=len(b)-1\n",
    "c=input(\"enter the string\")\n",
    "d=-1\n",
    "for i in b:\n",
    "    d+=1\n",
    "    if(c==i):\n",
    "        print(d)\n",
    "    elif(d==f):\n",
    "        print(\"the word is not present in string\")"
   ]
  },
  {
   "cell_type": "markdown",
   "id": "03a27c3f",
   "metadata": {},
   "source": [
    "question 17 not understand"
   ]
  },
  {
   "cell_type": "markdown",
   "id": "34756f03",
   "metadata": {},
   "source": [
    "# to print list in desecending order"
   ]
  },
  {
   "cell_type": "code",
   "execution_count": 60,
   "id": "153f4682",
   "metadata": {},
   "outputs": [
    {
     "name": "stdout",
     "output_type": "stream",
     "text": [
      "[4, 3, 2, 1]\n"
     ]
    }
   ],
   "source": [
    "a=input(\"enter the number\")\n",
    "a=a.split()\n",
    "a=[int(i) for i in a]\n",
    "a.sort(reverse=True)\n",
    "print(a)"
   ]
  },
  {
   "cell_type": "code",
   "execution_count": 71,
   "id": "baf253a2",
   "metadata": {},
   "outputs": [
    {
     "name": "stdout",
     "output_type": "stream",
     "text": [
      "[0, 1]\n"
     ]
    }
   ],
   "source": [
    "a=input(\"enter the number\")\n",
    "a=a.split()\n",
    "a=[int(i) for i in a]\n",
    "b=input(\"enter the value\")\n",
    "b=b.split()\n",
    "b=[int(j) for j in b]\n",
    "b.extend(a)\n",
    "print(b)"
   ]
  },
  {
   "cell_type": "code",
   "execution_count": 76,
   "id": "8ebea68b",
   "metadata": {},
   "outputs": [
    {
     "name": "stdout",
     "output_type": "stream",
     "text": [
      "[1, 2, 3, 4, 5, 6]\n"
     ]
    }
   ],
   "source": [
    "a=input(\"enter the number\")\n",
    "a=a.split()\n",
    "a=[int(i) for i in a]\n",
    "b=input(\"enter the number\")\n",
    "b=b.split()\n",
    "b=[int(j) for j in b]\n",
    "a.extend(b)\n",
    "print(a)"
   ]
  }
 ],
 "metadata": {
  "kernelspec": {
   "display_name": "base",
   "language": "python",
   "name": "python3"
  },
  "language_info": {
   "codemirror_mode": {
    "name": "ipython",
    "version": 3
   },
   "file_extension": ".py",
   "mimetype": "text/x-python",
   "name": "python",
   "nbconvert_exporter": "python",
   "pygments_lexer": "ipython3",
   "version": "3.12.9"
  }
 },
 "nbformat": 4,
 "nbformat_minor": 5
}
