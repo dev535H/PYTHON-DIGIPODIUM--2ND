{
 "cells": [
  {
   "cell_type": "code",
   "execution_count": 1,
   "id": "a8225273",
   "metadata": {},
   "outputs": [
    {
     "name": "stdout",
     "output_type": "stream",
     "text": [
      "johny johny yess papa\n",
      "eating sugar no papa\n",
      "telling alie no papa\n"
     ]
    }
   ],
   "source": [
    "poem = '''johny johny yess papa\n",
    "eating sugar no papa\n",
    "telling alie no papa'''\n",
    "print(poem)"
   ]
  },
  {
   "cell_type": "code",
   "execution_count": null,
   "id": "f2444a02",
   "metadata": {},
   "outputs": [
    {
     "name": "stdout",
     "output_type": "stream",
     "text": [
      "[1, 2, 3, 4, 5]\n",
      "['apple', 'banana', 'cherry', 'apple', 'graps', 'banana']\n"
     ]
    }
   ],
   "source": [
    "a=[1,2,3,4,5]#list variable\n",
    "fruits=['apple','banana','cherry','apple','graps','banana']\n",
    "print(a)\n",
    "print(fruits)"
   ]
  },
  {
   "cell_type": "code",
   "execution_count": 4,
   "id": "18bdd722",
   "metadata": {},
   "outputs": [
    {
     "name": "stdout",
     "output_type": "stream",
     "text": [
      "{1, 2, 3, 4, 5}\n"
     ]
    }
   ],
   "source": [
    "a={1,2,3,4,5,2,3}#set variable\n",
    "print(a)"
   ]
  },
  {
   "cell_type": "code",
   "execution_count": 5,
   "id": "728e58ff",
   "metadata": {},
   "outputs": [
    {
     "name": "stdout",
     "output_type": "stream",
     "text": [
      "(1, 2, 3, 4, 5, 2, 3)\n"
     ]
    }
   ],
   "source": [
    "a=(1,2,3,4,5,2,3)#set variable\n",
    "print(a)"
   ]
  },
  {
   "cell_type": "code",
   "execution_count": 6,
   "id": "9137f107",
   "metadata": {},
   "outputs": [
    {
     "name": "stdout",
     "output_type": "stream",
     "text": [
      "{'name': 'dev', 'age': 25, 'class': '12th', 'marks': 90}\n"
     ]
    }
   ],
   "source": [
    "student={\n",
    "    'name':'dev',\n",
    "    'age':25,\n",
    "    'class':'12th',\n",
    "    'marks':90\n",
    "}\n",
    "print(student)"
   ]
  },
  {
   "cell_type": "code",
   "execution_count": 7,
   "id": "9f0a8209",
   "metadata": {},
   "outputs": [
    {
     "data": {
      "text/plain": [
       "dict"
      ]
     },
     "execution_count": 7,
     "metadata": {},
     "output_type": "execute_result"
    }
   ],
   "source": [
    "#to check the type of variable \n",
    "type(student)"
   ]
  },
  {
   "cell_type": "markdown",
   "id": "3e2e341e",
   "metadata": {},
   "source": [
    "# TYPE CASTING\n"
   ]
  },
  {
   "cell_type": "code",
   "execution_count": 8,
   "id": "d6624950",
   "metadata": {},
   "outputs": [
    {
     "data": {
      "text/plain": [
       "str"
      ]
     },
     "execution_count": 8,
     "metadata": {},
     "output_type": "execute_result"
    }
   ],
   "source": [
    "a=10\n",
    "b=str(a)\n",
    "type(b)"
   ]
  },
  {
   "cell_type": "code",
   "execution_count": 11,
   "id": "adef4aa0",
   "metadata": {},
   "outputs": [
    {
     "name": "stdout",
     "output_type": "stream",
     "text": [
      "4 <class 'str'>\n"
     ]
    }
   ],
   "source": [
    "#input by default it will be string although we give integer or any other data type\n",
    "a=input(\"enter a no.\")\n",
    "type(a)\n",
    "print (a,type(a))"
   ]
  },
  {
   "cell_type": "code",
   "execution_count": 12,
   "id": "698b7cc9",
   "metadata": {},
   "outputs": [
    {
     "data": {
      "text/plain": [
       "int"
      ]
     },
     "execution_count": 12,
     "metadata": {},
     "output_type": "execute_result"
    }
   ],
   "source": [
    "a=int(input(\"enter a number:\"))\n",
    "type(a)"
   ]
  },
  {
   "cell_type": "code",
   "execution_count": null,
   "id": "c2fa743b",
   "metadata": {},
   "outputs": [],
   "source": []
  }
 ],
 "metadata": {
  "kernelspec": {
   "display_name": "base",
   "language": "python",
   "name": "python3"
  },
  "language_info": {
   "codemirror_mode": {
    "name": "ipython",
    "version": 3
   },
   "file_extension": ".py",
   "mimetype": "text/x-python",
   "name": "python",
   "nbconvert_exporter": "python",
   "pygments_lexer": "ipython3",
   "version": "3.12.9"
  }
 },
 "nbformat": 4,
 "nbformat_minor": 5
}
