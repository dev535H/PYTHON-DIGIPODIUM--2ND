{
 "cells": [
  {
   "cell_type": "markdown",
   "metadata": {},
   "source": [
    "heading\n",
    "# heading\n",
    "### heading\n",
    "- point1\n",
    "    - subpoint1\n",
    "- point2\n",
    "    - subpoint 2\n",
    "- point3\n",
    "    - subpoint 3"
   ]
  },
  {
   "cell_type": "code",
   "execution_count": 1,
   "metadata": {},
   "outputs": [
    {
     "name": "stdout",
     "output_type": "stream",
     "text": [
      "10\n"
     ]
    }
   ],
   "source": [
    "a =10\n",
    "print(a)"
   ]
  },
  {
   "cell_type": "markdown",
   "metadata": {},
   "source": [
    "### Program to prompt the user to enter a number, assign it to a variable, and print it to the console.(terminal)"
   ]
  },
  {
   "cell_type": "code",
   "execution_count": 2,
   "metadata": {},
   "outputs": [
    {
     "name": "stdout",
     "output_type": "stream",
     "text": [
      "10\n"
     ]
    }
   ],
   "source": [
    "a=int(input(\"enter the number\"))\n",
    "b=a\n",
    "print(b)"
   ]
  },
  {
   "cell_type": "markdown",
   "metadata": {},
   "source": [
    "### Program to demonstrate the use of type() function to check the data type of a variable.\n"
   ]
  },
  {
   "cell_type": "code",
   "execution_count": null,
   "metadata": {},
   "outputs": [
    {
     "name": "stdout",
     "output_type": "stream",
     "text": [
      "value of a is 10 type of a is <class 'str'>\n",
      "value of b is 20 and type of b is <class 'int'>\n"
     ]
    }
   ],
   "source": [
    "a=input(\"enter a number\")\n",
    "print(f\"value of a is\",a,\"type of a is\",type(a))\n",
    "b=int(input(\"enter the variable\"))\n",
    "print(f\"value of b is\",b,\"and type of b is\",type(b))"
   ]
  },
  {
   "cell_type": "markdown",
   "metadata": {},
   "source": [
    "### Program to find out the cube of 29.\n"
   ]
  },
  {
   "cell_type": "code",
   "execution_count": 5,
   "metadata": {},
   "outputs": [
    {
     "name": "stdout",
     "output_type": "stream",
     "text": [
      "cube of a is: 24389\n"
     ]
    }
   ],
   "source": [
    "a=29\n",
    "b=a**3\n",
    "print(f\"cube of a is:\",b)\n"
   ]
  },
  {
   "cell_type": "markdown",
   "metadata": {},
   "source": [
    "### Program to perform logical operations using the \"and\", \"or\", and \"not\" operators.\n"
   ]
  },
  {
   "cell_type": "code",
   "execution_count": 13,
   "metadata": {},
   "outputs": [
    {
     "name": "stdout",
     "output_type": "stream",
     "text": [
      "a!=b\n"
     ]
    }
   ],
   "source": [
    "a=input(\"enter a variable\")\n",
    "b=input(\"enter a variable\")\n",
    "c=input(\"enter a variable\")\n",
    "if a==b and b==a and c==a:\n",
    "    print(f'all variable are equal')\n",
    "elif a==0 or b==0 or c==0:# to use not equal to we have to always like in'!=' not like'=!' this\n",
    "    print(f'any variable is zero')\n",
    "elif a is not b :\n",
    "    print('a!=b')"
   ]
  },
  {
   "cell_type": "code",
   "execution_count": null,
   "metadata": {},
   "outputs": [],
   "source": []
  }
 ],
 "metadata": {
  "kernelspec": {
   "display_name": "base",
   "language": "python",
   "name": "python3"
  },
  "language_info": {
   "codemirror_mode": {
    "name": "ipython",
    "version": 3
   },
   "file_extension": ".py",
   "mimetype": "text/x-python",
   "name": "python",
   "nbconvert_exporter": "python",
   "pygments_lexer": "ipython3",
   "version": "3.12.9"
  }
 },
 "nbformat": 4,
 "nbformat_minor": 2
}
