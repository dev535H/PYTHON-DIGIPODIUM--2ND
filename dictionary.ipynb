{
 "cells": [
  {
   "cell_type": "code",
   "execution_count": 2,
   "id": "334b8e4f",
   "metadata": {},
   "outputs": [
    {
     "name": "stdout",
     "output_type": "stream",
     "text": [
      "{'name': 'john', 'age': 25, 'course': 'python', 'marks': 78}\n"
     ]
    }
   ],
   "source": [
    "student = {\n",
    "    \"name\" :\"john\",\n",
    "    \"age\" : 25,\n",
    "    \"course\": \"python\",\n",
    "    \"marks\" : 78\n",
    "}\n",
    "print(student)"
   ]
  },
  {
   "cell_type": "code",
   "execution_count": 1,
   "id": "a951064d",
   "metadata": {},
   "outputs": [
    {
     "name": "stdout",
     "output_type": "stream",
     "text": [
      "{'name': 'alice', 'age': 25, 'city': 'new york', 'gender': 'male'}\n"
     ]
    }
   ],
   "source": [
    "info=dict(name=\"alice\",age=25,city=\"new york\",gender=\"male\")\n",
    "print(info)"
   ]
  },
  {
   "cell_type": "code",
   "execution_count": 3,
   "id": "2d3c267e",
   "metadata": {},
   "outputs": [
    {
     "name": "stdout",
     "output_type": "stream",
     "text": [
      "alice\n"
     ]
    }
   ],
   "source": [
    "#1st method to acces the value of key\n",
    "print(info['name'])"
   ]
  },
  {
   "cell_type": "code",
   "execution_count": 4,
   "id": "c2556da2",
   "metadata": {},
   "outputs": [
    {
     "name": "stdout",
     "output_type": "stream",
     "text": [
      "25\n"
     ]
    }
   ],
   "source": [
    "#2nd method to acces the value of a key\n",
    "print(info.get('age'))"
   ]
  },
  {
   "cell_type": "code",
   "execution_count": 5,
   "id": "95c0d4f5",
   "metadata": {},
   "outputs": [],
   "source": [
    "#to add a new pair to dictionary\n",
    "info['country']='USA'"
   ]
  },
  {
   "cell_type": "code",
   "execution_count": 6,
   "id": "7b13a339",
   "metadata": {},
   "outputs": [
    {
     "name": "stdout",
     "output_type": "stream",
     "text": [
      "{'name': 'alice', 'age': 25, 'city': 'new york', 'gender': 'male', 'country': 'USA'}\n"
     ]
    }
   ],
   "source": [
    "print(info)"
   ]
  },
  {
   "cell_type": "code",
   "execution_count": 7,
   "id": "df7ae774",
   "metadata": {},
   "outputs": [
    {
     "name": "stdout",
     "output_type": "stream",
     "text": [
      "{'name': 'alice', 'age': 25, 'city': 'new york', 'gender': 'male', 'country': 'USA', 'class': 'XI'}\n"
     ]
    }
   ],
   "source": [
    "#to add a new pair to dictionary\n",
    "info['class']='XI'\n",
    "print(info)"
   ]
  },
  {
   "cell_type": "code",
   "execution_count": null,
   "id": "3338e050",
   "metadata": {},
   "outputs": [
    {
     "name": "stdout",
     "output_type": "stream",
     "text": [
      "dict_keys(['name', 'age', 'city', 'gender', 'country', 'class'])\n",
      "dict_values(['alice', 25, 'new york', 'male', 'USA', 'XI'])\n",
      "dict_items([('name', 'alice'), ('age', 25), ('city', 'new york'), ('gender', 'male'), ('country', 'USA'), ('class', 'XI')])\n"
     ]
    }
   ],
   "source": [
    "print(info.keys())#it give all keys\n",
    "print(info.values())#it gives all values\n",
    "print(info.items())#it gives both key and values in tuple form"
   ]
  },
  {
   "cell_type": "code",
   "execution_count": null,
   "id": "95cd051d",
   "metadata": {},
   "outputs": [
    {
     "name": "stdout",
     "output_type": "stream",
     "text": [
      "{'lucknow': [25, 35, 45], 'kanpur': [26, 33, 46], 'delhi': [27, 34, 47]}\n"
     ]
    }
   ],
   "source": [
    "temp = {\n",
    "    'lucknow': [25,35,35],\n",
    "    'delhi' : [28,32,30],\n",
    "    'mumbai' : [30,31,29]\n",
    "}\n",
    "print(temp)"
   ]
  },
  {
   "cell_type": "code",
   "execution_count": 11,
   "id": "0f94a50f",
   "metadata": {},
   "outputs": [
    {
     "name": "stdout",
     "output_type": "stream",
     "text": [
      "name\n",
      "age\n",
      "city\n",
      "gender\n",
      "country\n",
      "class\n"
     ]
    }
   ],
   "source": [
    "for k in info:\n",
    "    print(k)"
   ]
  },
  {
   "cell_type": "code",
   "execution_count": 12,
   "id": "0637576e",
   "metadata": {},
   "outputs": [
    {
     "name": "stdout",
     "output_type": "stream",
     "text": [
      "name:alice\n",
      "age:25\n",
      "city:new york\n",
      "gender:male\n",
      "country:USA\n",
      "class:XI\n"
     ]
    }
   ],
   "source": [
    "for k,v in info.items():\n",
    "    print(f\"{k}:{v}\")"
   ]
  },
  {
   "cell_type": "code",
   "execution_count": null,
   "id": "81b77af3",
   "metadata": {},
   "outputs": [
    {
     "name": "stdout",
     "output_type": "stream",
     "text": [
      "{'emp001': {'name': 'alice', 'age': 25, 'department': 'HR'}, 'emp002': {'name': 'Bob', 'age': 25, 'department': 'IT'}, 'emp003': {'name': 'alice', 'age': 25, 'department': 'Finance'}}\n"
     ]
    }
   ],
   "source": [
    "company={\n",
    "    'emp001':{\n",
    "        'name':'alice',\n",
    "        'age':25,\n",
    "        'department':'HR'\n",
    "    },\n",
    "    'emp002':{\n",
    "        'name':'Bob',\n",
    "        'age':25,\n",
    "        'department':'IT'\n",
    "    },\n",
    "    'emp003':{\n",
    "        'name':'alice',\n",
    "        'age':28,\n",
    "        'department':'Finance'\n",
    "    }\n",
    "}\n",
    "print(company)"
   ]
  },
  {
   "cell_type": "code",
   "execution_count": 19,
   "id": "82064c8c",
   "metadata": {},
   "outputs": [
    {
     "name": "stdout",
     "output_type": "stream",
     "text": [
      "{'emp001': {'age': 25, 'department': 'HR', 'name': 'alice'},\n",
      " 'emp002': {'age': 25, 'department': 'IT', 'name': 'Bob'},\n",
      " 'emp003': {'age': 25, 'department': 'Finance', 'name': 'alice'}}\n"
     ]
    }
   ],
   "source": [
    "from pprint import pprint# import pretty print\n",
    "pprint(company)"
   ]
  },
  {
   "cell_type": "code",
   "execution_count": 20,
   "id": "d8de524a",
   "metadata": {},
   "outputs": [
    {
     "data": {
      "text/plain": [
       "25"
      ]
     },
     "execution_count": 20,
     "metadata": {},
     "output_type": "execute_result"
    }
   ],
   "source": [
    "company['emp001']['age']"
   ]
  },
  {
   "cell_type": "code",
   "execution_count": 32,
   "id": "bbba54aa",
   "metadata": {},
   "outputs": [
    {
     "name": "stdout",
     "output_type": "stream",
     "text": [
      "{'emp001': {'age': 25, 'department': 'HR', 'name': 'alice'},\n",
      " 'emp002': {'age': 25, 'department': 'IT', 'name': 'Bob'},\n",
      " 'emp003': {'age': 25, 'department': 'Finance', 'name': 'alice'},\n",
      " 'emp004': {'age': 20, 'department': 'CEO', 'name': 'dev'}}\n"
     ]
    }
   ],
   "source": [
    "#to add emp004 in nested dictionary\n",
    "company['emp004']={\n",
    "    'name':'dev',\n",
    "    'age':20,\n",
    "    'department':\"CEO\"\n",
    "}\n",
    "    \n",
    "pprint(company)"
   ]
  },
  {
   "cell_type": "code",
   "execution_count": 31,
   "id": "7205d115",
   "metadata": {},
   "outputs": [
    {
     "data": {
      "text/plain": [
       "20"
      ]
     },
     "execution_count": 31,
     "metadata": {},
     "output_type": "execute_result"
    }
   ],
   "source": [
    "company['emp004']['age']"
   ]
  },
  {
   "cell_type": "code",
   "execution_count": 38,
   "id": "68918a78",
   "metadata": {},
   "outputs": [
    {
     "data": {
      "text/plain": [
       "36.0"
      ]
     },
     "execution_count": 38,
     "metadata": {},
     "output_type": "execute_result"
    }
   ],
   "source": [
    "sum(temp['delhi'])/len(temp['delhi'])"
   ]
  }
 ],
 "metadata": {
  "kernelspec": {
   "display_name": "base",
   "language": "python",
   "name": "python3"
  },
  "language_info": {
   "codemirror_mode": {
    "name": "ipython",
    "version": 3
   },
   "file_extension": ".py",
   "mimetype": "text/x-python",
   "name": "python",
   "nbconvert_exporter": "python",
   "pygments_lexer": "ipython3",
   "version": "3.12.9"
  }
 },
 "nbformat": 4,
 "nbformat_minor": 5
}
