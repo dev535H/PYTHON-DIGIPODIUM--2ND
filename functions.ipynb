{
 "cells": [
  {
   "cell_type": "code",
   "execution_count": 5,
   "id": "948a820a",
   "metadata": {},
   "outputs": [],
   "source": [
    "#Non Parametrized function\n",
    "def great():# always funtcion start with def and it is function decelaration\n",
    "    print(\"hello, World!\")\n",
    "    print(\"welcome to python\")\n",
    "    print(\"have a good day\")"
   ]
  },
  {
   "cell_type": "code",
   "execution_count": 6,
   "id": "e4cee31d",
   "metadata": {},
   "outputs": [
    {
     "name": "stdout",
     "output_type": "stream",
     "text": [
      "hello, World!\n",
      "welcome to python\n",
      "have a good day\n"
     ]
    }
   ],
   "source": [
    "#function calling\n",
    "great()"
   ]
  },
  {
   "cell_type": "code",
   "execution_count": 13,
   "id": "d2ba7817",
   "metadata": {},
   "outputs": [],
   "source": [
    "\n",
    "#parameter function\n",
    "def sum(a, b):#parameters\n",
    "    print(a+b)"
   ]
  },
  {
   "cell_type": "code",
   "execution_count": null,
   "id": "ed536cf1",
   "metadata": {},
   "outputs": [
    {
     "name": "stdout",
     "output_type": "stream",
     "text": [
      "9\n"
     ]
    }
   ],
   "source": [
    "sum(4,5)#in bracket the values are called arguments"
   ]
  },
  {
   "cell_type": "code",
   "execution_count": 16,
   "id": "95c7a3f8",
   "metadata": {},
   "outputs": [
    {
     "name": "stdout",
     "output_type": "stream",
     "text": [
      "15.0\n"
     ]
    }
   ],
   "source": [
    "def avg(a,b):\n",
    "    print((a+b)/2)\n",
    "avg(10,20)"
   ]
  },
  {
   "cell_type": "code",
   "execution_count": null,
   "id": "c3541b50",
   "metadata": {},
   "outputs": [],
   "source": [
    "#nreturn kerne se kya hua hai \n",
    "def avg(a,b):\n",
    "    return((a+b)/2)\n",
    "avg = avg(10,20)"
   ]
  },
  {
   "cell_type": "code",
   "execution_count": 19,
   "id": "5d89204f",
   "metadata": {},
   "outputs": [
    {
     "name": "stdout",
     "output_type": "stream",
     "text": [
      "15.0\n"
     ]
    }
   ],
   "source": [
    "print(avg)"
   ]
  },
  {
   "cell_type": "code",
   "execution_count": 20,
   "id": "688ea606",
   "metadata": {},
   "outputs": [
    {
     "name": "stdout",
     "output_type": "stream",
     "text": [
      "I am from USA\n",
      "I am from canada\n",
      "I am from Australia\n",
      "I am from india\n"
     ]
    }
   ],
   "source": [
    "def mycountry(country=\"india\"):\n",
    "    print(\"I am from \"+country)\n",
    "mycountry(\"USA\")\n",
    "mycountry(\"canada\")\n",
    "mycountry(\"Australia\")\n",
    "mycountry()# default value will be used here as india"
   ]
  },
  {
   "cell_type": "code",
   "execution_count": 23,
   "id": "c4f88dd6",
   "metadata": {},
   "outputs": [
    {
     "data": {
      "text/plain": [
       "25"
      ]
     },
     "execution_count": 23,
     "metadata": {},
     "output_type": "execute_result"
    }
   ],
   "source": [
    "def square(x):\n",
    "    return x**2\n",
    "square(5)"
   ]
  },
  {
   "cell_type": "code",
   "execution_count": null,
   "id": "f76e9d78",
   "metadata": {},
   "outputs": [
    {
     "name": "stdout",
     "output_type": "stream",
     "text": [
      "25\n"
     ]
    }
   ],
   "source": [
    "#lambda function\n",
    "square= lambda x:x*x# to decrease the code length\n",
    "print(square(5))"
   ]
  },
  {
   "cell_type": "code",
   "execution_count": null,
   "id": "34ed88f0",
   "metadata": {},
   "outputs": [
    {
     "name": "stdout",
     "output_type": "stream",
     "text": [
      "True\n"
     ]
    }
   ],
   "source": [
    "# prime number \n",
    "def is_prime(n):\n",
    "    if n<2:\n",
    "        return False\n",
    "    for i in range (2,n):\n",
    "        if n%i == 0:\n",
    "            return False\n",
    "    return True\n",
    "print(is_prime(11))\n",
    "    "
   ]
  },
  {
   "cell_type": "code",
   "execution_count": null,
   "id": "fddb629b",
   "metadata": {},
   "outputs": [],
   "source": []
  },
  {
   "cell_type": "code",
   "execution_count": null,
   "id": "c94ab12c",
   "metadata": {},
   "outputs": [],
   "source": []
  },
  {
   "cell_type": "code",
   "execution_count": 27,
   "id": "7fac9ca3",
   "metadata": {},
   "outputs": [
    {
     "name": "stdout",
     "output_type": "stream",
     "text": [
      "True\n"
     ]
    }
   ],
   "source": [
    "# prime number by lambda function\n",
    "is_prime=lambda n: n<2 or all(n%i!=0 for i in range(2,n))\n",
    "print(is_prime(11))"
   ]
  }
 ],
 "metadata": {
  "kernelspec": {
   "display_name": "base",
   "language": "python",
   "name": "python3"
  },
  "language_info": {
   "codemirror_mode": {
    "name": "ipython",
    "version": 3
   },
   "file_extension": ".py",
   "mimetype": "text/x-python",
   "name": "python",
   "nbconvert_exporter": "python",
   "pygments_lexer": "ipython3",
   "version": "3.12.9"
  }
 },
 "nbformat": 4,
 "nbformat_minor": 5
}
